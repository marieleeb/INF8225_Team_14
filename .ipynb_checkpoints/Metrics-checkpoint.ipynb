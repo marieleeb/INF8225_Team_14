{
 "cells": [
  {
   "cell_type": "markdown",
   "metadata": {
    "id": "vWp8XIuNpIV7"
   },
   "source": [
    "# Model Evaluation\n",
    "Notebook to test model performance given transformed dataset and results for the four tasks. Metrics used:\n",
    "- Fretchet Inception Distance (VanGogh)\n",
    "- Kernel Inception Distance (VanGogh)\n",
    "- Peak Signal Noise Ratio (deblurring and denoizing)\n",
    "- NIQE (deblocking)"
   ]
  },
  {
   "cell_type": "code",
   "execution_count": 9,
   "metadata": {
    "id": "9DvS3t2xMkrq"
   },
   "outputs": [
    {
     "name": "stdout",
     "output_type": "stream",
     "text": [
      "Requirement already satisfied: tabulate in /Users/marc-antoinehuet/opt/anaconda3/lib/python3.8/site-packages (0.8.9)\n",
      "Requirement already satisfied: scikit-video in /Users/marc-antoinehuet/opt/anaconda3/lib/python3.8/site-packages (1.1.11)\n",
      "Requirement already satisfied: numpy in /Users/marc-antoinehuet/opt/anaconda3/lib/python3.8/site-packages (from scikit-video) (1.19.2)\n",
      "Requirement already satisfied: pillow in /Users/marc-antoinehuet/opt/anaconda3/lib/python3.8/site-packages (from scikit-video) (8.0.1)\n",
      "Collecting scipy\n",
      "  Downloading scipy-1.6.3-cp38-cp38-macosx_10_9_x86_64.whl (30.8 MB)\n",
      "\u001b[K     |████████████████████████████████| 30.8 MB 3.5 MB/s eta 0:00:01\n",
      "\u001b[?25hRequirement already satisfied: numpy in /Users/marc-antoinehuet/opt/anaconda3/lib/python3.8/site-packages (from scikit-video) (1.19.2)\n",
      "Installing collected packages: scipy\n",
      "Successfully installed scipy-1.6.3\n",
      "Found existing installation: scipy 1.6.3\n",
      "Uninstalling scipy-1.6.3:\n",
      "  Successfully uninstalled scipy-1.6.3\n",
      "\u001b[31mERROR: Invalid requirement: 'Sci-kit video uses deprecated version of scipy'\u001b[0m\n",
      "Collecting torch-fidelity\n",
      "  Downloading torch_fidelity-0.2.0-py3-none-any.whl (22 kB)\n",
      "Requirement already satisfied: tqdm in /Users/marc-antoinehuet/opt/anaconda3/lib/python3.8/site-packages (from torch-fidelity) (4.54.0)\n",
      "Requirement already satisfied: numpy in /Users/marc-antoinehuet/opt/anaconda3/lib/python3.8/site-packages (from torch-fidelity) (1.19.2)\n",
      "Requirement already satisfied: torch in /Users/marc-antoinehuet/.local/lib/python3.8/site-packages (from torch-fidelity) (1.8.0)\n",
      "Requirement already satisfied: Pillow in /Users/marc-antoinehuet/opt/anaconda3/lib/python3.8/site-packages (from torch-fidelity) (8.0.1)\n",
      "Collecting scipy\n",
      "  Using cached scipy-1.6.3-cp38-cp38-macosx_10_9_x86_64.whl (30.8 MB)\n",
      "Requirement already satisfied: numpy in /Users/marc-antoinehuet/opt/anaconda3/lib/python3.8/site-packages (from torch-fidelity) (1.19.2)\n",
      "Requirement already satisfied: numpy in /Users/marc-antoinehuet/opt/anaconda3/lib/python3.8/site-packages (from torch-fidelity) (1.19.2)\n",
      "Requirement already satisfied: typing-extensions in /Users/marc-antoinehuet/opt/anaconda3/lib/python3.8/site-packages (from torch->torch-fidelity) (3.7.4.3)\n",
      "Collecting torchvision\n",
      "  Downloading torchvision-0.9.1-cp38-cp38-macosx_10_9_x86_64.whl (13.2 MB)\n",
      "\u001b[K     |████████████████████████████████| 13.2 MB 3.5 MB/s eta 0:00:01\n",
      "\u001b[?25hRequirement already satisfied: numpy in /Users/marc-antoinehuet/opt/anaconda3/lib/python3.8/site-packages (from torch-fidelity) (1.19.2)\n",
      "Requirement already satisfied: Pillow in /Users/marc-antoinehuet/opt/anaconda3/lib/python3.8/site-packages (from torch-fidelity) (8.0.1)\n",
      "Collecting torch\n",
      "  Downloading torch-1.8.1-cp38-none-macosx_10_9_x86_64.whl (119.6 MB)\n",
      "\u001b[K     |████████████████████████████████| 119.6 MB 3.5 MB/s eta 0:00:01\n",
      "\u001b[?25hRequirement already satisfied: numpy in /Users/marc-antoinehuet/opt/anaconda3/lib/python3.8/site-packages (from torch-fidelity) (1.19.2)\n",
      "Requirement already satisfied: typing-extensions in /Users/marc-antoinehuet/opt/anaconda3/lib/python3.8/site-packages (from torch->torch-fidelity) (3.7.4.3)\n",
      "Installing collected packages: torch, torchvision, scipy, torch-fidelity\n",
      "  Attempting uninstall: torch\n",
      "    Found existing installation: torch 1.8.0\n",
      "    Uninstalling torch-1.8.0:\n",
      "      Successfully uninstalled torch-1.8.0\n",
      "Successfully installed scipy-1.6.3 torch-1.8.1 torch-fidelity-0.2.0 torchvision-0.9.1\n"
     ]
    }
   ],
   "source": [
    "from skimage.metrics import peak_signal_noise_ratio\n",
    "from statistics import mean\n",
    "from PIL import Image\n",
    "import os, sys, shutil\n",
    "import numpy as np\n",
    "import skimage.transform as st\n",
    "from skimage.util import img_as_ubyte\n",
    "import math\n",
    "\n",
    "!pip install tabulate\n",
    "from tabulate import tabulate\n",
    "!pip install scikit-video\n",
    "from skvideo import measure\n",
    "!pip uninstall scipy -y\n",
    "!pip install scipy==1.2.3  \"Sci-kit video uses deprecated version of scipy\""
   ]
  },
  {
   "cell_type": "code",
   "execution_count": 2,
   "metadata": {},
   "outputs": [],
   "source": [
    "# Load files\n",
    "\n",
    "# Paths\n",
    "URBAN_ORIG_PATH = \"data/Urban100_originals.npy\"\n",
    "\n",
    "CYCLEGAN_DEBLURRED_PATH = \"data/unzipped/cyclegan_deblurred\"\n",
    "CYCLEGAN_DEBLOCKED_PATH = \"data/unzipped/cyclegan_deblocked\"\n",
    "CYCLEGAN_DENOISED_PATH  = \"data/unzipped/cyclegan_denoised\"\n",
    "CYCLEGAN_VANGOGH_PATH   = \"data/unzipped/cyclegan_vangogh\"\n",
    "\n",
    "UGATIT_DEBLURRED_PATH = \"data/unzipped/ugatit_deblurred\"\n",
    "UGATIT_DEBLOCKED_PATH = \"data/unzipped/ugatit_deblocked\"\n",
    "UGATIT_DENOISED_PATH  = \"data/unzipped/ugatit_denoised\"\n",
    "UGATIT_DENOISED_PATH  = \"data/unzipped/ugatit_vangogh\"\n",
    "\n",
    "# CycleGAN\n",
    "!unzip -uq data/CycleGAN_results_blurred.zip    -d \"data/unzipped/cyclegan_deblurred\"\n",
    "!unzip -uq data/CycleGAN_results_compressed.zip -d \"data/unzipped/cyclegan_deblocked\"\n",
    "!unzip -uq data/CycleGAN_results_noisy.zip      -d \"data/unzipped/cyclegan_denoised\"\n",
    "!unzip -uq data/CycleGAN_results_vangogh.zip    -d \"data/unzipped/cyclegan_vangogh\"\n",
    "\n",
    "# U-GAT-IT\n",
    "!unzip -uq data/UGATIT_results_blurred.zip    -d \"data/unzipped/ugatit_deblurred\"\n",
    "!unzip -uq data/UGATIT_results_compressed.zip -d \"data/unzipped/ugatit_deblocked\"\n",
    "!unzip -uq data/UGATIT_results_noisy.zip      -d \"data/unzipped/ugatit_denoised\"\n",
    "!unzip -uq data/UGATIT_results_vangogh.zip    -d \"data/unzipped/ugatit_vangogh\""
   ]
  },
  {
   "cell_type": "code",
   "execution_count": 3,
   "metadata": {
    "colab": {
     "base_uri": "https://localhost:8080/"
    },
    "id": "2NPHD5_jKl1t",
    "outputId": "ec00d9e2-9b12-473c-da92-4664a8528565"
   },
   "outputs": [
    {
     "name": "stdout",
     "output_type": "stream",
     "text": [
      "Shape of resized originals: (100, 256, 256, 3)\n"
     ]
    }
   ],
   "source": [
    "#Load original Urban100 images and resize to 256x256\n",
    "\n",
    "size = 256\n",
    "urban100_originals = np.load(URBAN_ORIG_PATH, allow_pickle=True) \n",
    "urban100_resized = []\n",
    "\n",
    "for img in urban100_originals:\n",
    "  urban100_resized.append(st.resize(img, (size, size)))\n",
    "\n",
    "urban100_resized = np.array(urban100_resized)\n",
    "print(f\"Shape of resized originals: {urban100_resized.shape}\")"
   ]
  },
  {
   "cell_type": "markdown",
   "metadata": {
    "id": "cKB4lXgiqINd"
   },
   "source": [
    "# Peak Signal to Noise Ratio "
   ]
  },
  {
   "cell_type": "code",
   "execution_count": 4,
   "metadata": {
    "colab": {
     "base_uri": "https://localhost:8080/"
    },
    "id": "crjj7C9dvymJ",
    "outputId": "f1c47c01-cc89-49ed-e038-09860ac44577"
   },
   "outputs": [],
   "source": [
    "def computePSNR(DEBLURRED_PATH, DENOISED_PATH, task):\n",
    "    \"\"\"Compute PSNR for a specified task\n",
    "    \n",
    "    DEBLURRED_PATH: denoised path for the task\n",
    "    DENOISED_PATH: denoised path for the task\n",
    "    task (string): CycleGAN or U-GAT-IT\n",
    "    \"\"\"\n",
    "    deblurred_psnrs = []\n",
    "    denoised_psnrs = []\n",
    "\n",
    "    # Load genereated images\n",
    "    deblurred_imgs = os.listdir(DEBLURRED_PATH)\n",
    "    denoised_imgs = os.listdir(DENOISED_PATH)\n",
    "\n",
    "    # Sort images\n",
    "    deblurred_imgs.sort()\n",
    "    denoised_imgs.sort()\n",
    "\n",
    "    for i, img_real in enumerate(urban100_resized):\n",
    "      img_real = img_as_ubyte(img_real)\n",
    "\n",
    "      # Deblur task\n",
    "      path_fake = os.path.join(DEBLURRED_PATH, deblurred_imgs[i])\n",
    "      img_fake = np.array(Image.open(path_fake).convert(\"RGB\"))\n",
    "      deblurred_psnrs.append(10**(peak_signal_noise_ratio(img_real, img_fake)/10))\n",
    "\n",
    "      # Denoise task\n",
    "      path_fake = os.path.join(DENOISED_PATH, denoised_imgs[i])\n",
    "      img_fake = np.array(Image.open(path_fake).convert(\"RGB\"))\n",
    "      denoised_psnrs.append(10**(peak_signal_noise_ratio(img_real, img_fake)/10))\n",
    "\n",
    "    print(tabulate([['Deblur', 10*math.log(mean(deblurred_psnrs), 10)], \n",
    "                    ['Denoise', 10*math.log(mean(denoised_psnrs), 10)],], \n",
    "                   headers=[task, 'Mean PSNR (dB)'], tablefmt='orgtbl'))"
   ]
  },
  {
   "cell_type": "code",
   "execution_count": 5,
   "metadata": {},
   "outputs": [
    {
     "name": "stdout",
     "output_type": "stream",
     "text": [
      "| CycleGAN   |   Mean PSNR (dB) |\n",
      "|------------+------------------|\n",
      "| Deblur     |          23.28   |\n",
      "| Denoise    |          22.7762 |\n"
     ]
    },
    {
     "ename": "IndexError",
     "evalue": "list index out of range",
     "output_type": "error",
     "traceback": [
      "\u001b[0;31m---------------------------------------------------------------------------\u001b[0m",
      "\u001b[0;31mIndexError\u001b[0m                                Traceback (most recent call last)",
      "\u001b[0;32m<ipython-input-5-1a04b8f65e24>\u001b[0m in \u001b[0;36m<module>\u001b[0;34m\u001b[0m\n\u001b[1;32m      3\u001b[0m \u001b[0;34m\u001b[0m\u001b[0m\n\u001b[1;32m      4\u001b[0m \u001b[0;31m#U-GAT-IT\u001b[0m\u001b[0;34m\u001b[0m\u001b[0;34m\u001b[0m\u001b[0;34m\u001b[0m\u001b[0m\n\u001b[0;32m----> 5\u001b[0;31m \u001b[0mcomputePSNR\u001b[0m\u001b[0;34m(\u001b[0m\u001b[0mUGATIT_DEBLURRED_PATH\u001b[0m\u001b[0;34m,\u001b[0m \u001b[0mUGATIT_DENOISED_PATH\u001b[0m\u001b[0;34m,\u001b[0m \u001b[0;34m\"U-GAT-IT\"\u001b[0m\u001b[0;34m)\u001b[0m\u001b[0;34m\u001b[0m\u001b[0;34m\u001b[0m\u001b[0m\n\u001b[0m",
      "\u001b[0;32m<ipython-input-4-eba466c47693>\u001b[0m in \u001b[0;36mcomputePSNR\u001b[0;34m(DEBLURRED_PATH, DENOISED_PATH, task)\u001b[0m\n\u001b[1;32m     26\u001b[0m \u001b[0;34m\u001b[0m\u001b[0m\n\u001b[1;32m     27\u001b[0m       \u001b[0;31m# Denoise task\u001b[0m\u001b[0;34m\u001b[0m\u001b[0;34m\u001b[0m\u001b[0;34m\u001b[0m\u001b[0m\n\u001b[0;32m---> 28\u001b[0;31m       \u001b[0mpath_fake\u001b[0m \u001b[0;34m=\u001b[0m \u001b[0mos\u001b[0m\u001b[0;34m.\u001b[0m\u001b[0mpath\u001b[0m\u001b[0;34m.\u001b[0m\u001b[0mjoin\u001b[0m\u001b[0;34m(\u001b[0m\u001b[0mDENOISED_PATH\u001b[0m\u001b[0;34m,\u001b[0m \u001b[0mdenoised_imgs\u001b[0m\u001b[0;34m[\u001b[0m\u001b[0mi\u001b[0m\u001b[0;34m]\u001b[0m\u001b[0;34m)\u001b[0m\u001b[0;34m\u001b[0m\u001b[0;34m\u001b[0m\u001b[0m\n\u001b[0m\u001b[1;32m     29\u001b[0m       \u001b[0mimg_fake\u001b[0m \u001b[0;34m=\u001b[0m \u001b[0mnp\u001b[0m\u001b[0;34m.\u001b[0m\u001b[0marray\u001b[0m\u001b[0;34m(\u001b[0m\u001b[0mImage\u001b[0m\u001b[0;34m.\u001b[0m\u001b[0mopen\u001b[0m\u001b[0;34m(\u001b[0m\u001b[0mpath_fake\u001b[0m\u001b[0;34m)\u001b[0m\u001b[0;34m.\u001b[0m\u001b[0mconvert\u001b[0m\u001b[0;34m(\u001b[0m\u001b[0;34m\"RGB\"\u001b[0m\u001b[0;34m)\u001b[0m\u001b[0;34m)\u001b[0m\u001b[0;34m\u001b[0m\u001b[0;34m\u001b[0m\u001b[0m\n\u001b[1;32m     30\u001b[0m       \u001b[0mdenoised_psnrs\u001b[0m\u001b[0;34m.\u001b[0m\u001b[0mappend\u001b[0m\u001b[0;34m(\u001b[0m\u001b[0;36m10\u001b[0m\u001b[0;34m**\u001b[0m\u001b[0;34m(\u001b[0m\u001b[0mpeak_signal_noise_ratio\u001b[0m\u001b[0;34m(\u001b[0m\u001b[0mimg_real\u001b[0m\u001b[0;34m,\u001b[0m \u001b[0mimg_fake\u001b[0m\u001b[0;34m)\u001b[0m\u001b[0;34m/\u001b[0m\u001b[0;36m10\u001b[0m\u001b[0;34m)\u001b[0m\u001b[0;34m)\u001b[0m\u001b[0;34m\u001b[0m\u001b[0;34m\u001b[0m\u001b[0m\n",
      "\u001b[0;31mIndexError\u001b[0m: list index out of range"
     ]
    }
   ],
   "source": [
    "#CycleGAN\n",
    "computePSNR(CYCLEGAN_DEBLURRED_PATH, CYCLEGAN_DENOISED_PATH, \"CycleGAN\")\n",
    "\n",
    "#U-GAT-IT\n",
    "computePSNR(UGATIT_DEBLURRED_PATH, UGATIT_DENOISED_PATH, \"U-GAT-IT\")"
   ]
  },
  {
   "cell_type": "markdown",
   "metadata": {
    "id": "UnC2VbG-qNr-"
   },
   "source": [
    "# NIQE "
   ]
  },
  {
   "cell_type": "code",
   "execution_count": 6,
   "metadata": {
    "id": "vsoJMLnJtbYF"
   },
   "outputs": [],
   "source": [
    "def computeNIQE(task, DEBLOCKED_PATH):\n",
    "    \"\"\" Compute NIQE for a specified task\n",
    "    \n",
    "    task : CycleGAN or U-GAT-IT\n",
    "    DEBLOCKED_PATH : deblocked path for the task\n",
    "    \"\"\"\n",
    "    deblocked_niqe = []\n",
    "    deblocked_imgs = os.listdir(DEBLOCKED_PATH)\n",
    "\n",
    "    for deblocked_img in deblocked_imgs:\n",
    "        path = os.path.join(DEBLOCKED_PATH, deblocked_img)\n",
    "        img = np.array(Image.open(path).convert(\"L\")) # Convert to greyscale\n",
    "        img = img[:,:,np.newaxis]\n",
    "        niqe = measure.niqe(img)\n",
    "        deblocked_niqe.append(niqe)\n",
    "\n",
    "    print(f\"{task} NIQE: \", np.mean(deblocked_niqe))"
   ]
  },
  {
   "cell_type": "code",
   "execution_count": 7,
   "metadata": {
    "colab": {
     "base_uri": "https://localhost:8080/"
    },
    "id": "cTzl09qvCFkh",
    "outputId": "8d5a96c8-d90c-413f-de7b-a616791c0655"
   },
   "outputs": [
    {
     "ename": "AttributeError",
     "evalue": "module 'scipy.misc' has no attribute 'imresize'",
     "output_type": "error",
     "traceback": [
      "\u001b[0;31m---------------------------------------------------------------------------\u001b[0m",
      "\u001b[0;31mAttributeError\u001b[0m                            Traceback (most recent call last)",
      "\u001b[0;32m<ipython-input-7-2bc999644e94>\u001b[0m in \u001b[0;36m<module>\u001b[0;34m\u001b[0m\n\u001b[1;32m      1\u001b[0m \u001b[0;31m# CycleGAN\u001b[0m\u001b[0;34m\u001b[0m\u001b[0;34m\u001b[0m\u001b[0;34m\u001b[0m\u001b[0m\n\u001b[0;32m----> 2\u001b[0;31m \u001b[0mcomputeNIQE\u001b[0m\u001b[0;34m(\u001b[0m\u001b[0;34m\"CycleGAN\"\u001b[0m\u001b[0;34m,\u001b[0m \u001b[0mCYCLEGAN_DEBLOCKED_PATH\u001b[0m\u001b[0;34m)\u001b[0m\u001b[0;34m\u001b[0m\u001b[0;34m\u001b[0m\u001b[0m\n\u001b[0m\u001b[1;32m      3\u001b[0m \u001b[0;34m\u001b[0m\u001b[0m\n\u001b[1;32m      4\u001b[0m \u001b[0;31m# U-GAT-IT TODO\u001b[0m\u001b[0;34m\u001b[0m\u001b[0;34m\u001b[0m\u001b[0;34m\u001b[0m\u001b[0m\n\u001b[1;32m      5\u001b[0m \u001b[0mcomputeNIQE\u001b[0m\u001b[0;34m(\u001b[0m\u001b[0;34m\"U-GAT-IT\"\u001b[0m\u001b[0;34m,\u001b[0m \u001b[0mUGATIT_DEBLOCKED_PATH\u001b[0m\u001b[0;34m)\u001b[0m\u001b[0;34m\u001b[0m\u001b[0;34m\u001b[0m\u001b[0m\n",
      "\u001b[0;32m<ipython-input-6-77177aba8f8c>\u001b[0m in \u001b[0;36mcomputeNIQE\u001b[0;34m(task, DEBLOCKED_PATH)\u001b[0m\n\u001b[1;32m     12\u001b[0m         \u001b[0mimg\u001b[0m \u001b[0;34m=\u001b[0m \u001b[0mnp\u001b[0m\u001b[0;34m.\u001b[0m\u001b[0marray\u001b[0m\u001b[0;34m(\u001b[0m\u001b[0mImage\u001b[0m\u001b[0;34m.\u001b[0m\u001b[0mopen\u001b[0m\u001b[0;34m(\u001b[0m\u001b[0mpath\u001b[0m\u001b[0;34m)\u001b[0m\u001b[0;34m.\u001b[0m\u001b[0mconvert\u001b[0m\u001b[0;34m(\u001b[0m\u001b[0;34m\"L\"\u001b[0m\u001b[0;34m)\u001b[0m\u001b[0;34m)\u001b[0m \u001b[0;31m# Convert to greyscale\u001b[0m\u001b[0;34m\u001b[0m\u001b[0;34m\u001b[0m\u001b[0m\n\u001b[1;32m     13\u001b[0m         \u001b[0mimg\u001b[0m \u001b[0;34m=\u001b[0m \u001b[0mimg\u001b[0m\u001b[0;34m[\u001b[0m\u001b[0;34m:\u001b[0m\u001b[0;34m,\u001b[0m\u001b[0;34m:\u001b[0m\u001b[0;34m,\u001b[0m\u001b[0mnp\u001b[0m\u001b[0;34m.\u001b[0m\u001b[0mnewaxis\u001b[0m\u001b[0;34m]\u001b[0m\u001b[0;34m\u001b[0m\u001b[0;34m\u001b[0m\u001b[0m\n\u001b[0;32m---> 14\u001b[0;31m         \u001b[0mniqe\u001b[0m \u001b[0;34m=\u001b[0m \u001b[0mmeasure\u001b[0m\u001b[0;34m.\u001b[0m\u001b[0mniqe\u001b[0m\u001b[0;34m(\u001b[0m\u001b[0mimg\u001b[0m\u001b[0;34m)\u001b[0m\u001b[0;34m\u001b[0m\u001b[0;34m\u001b[0m\u001b[0m\n\u001b[0m\u001b[1;32m     15\u001b[0m         \u001b[0mdeblocked_niqe\u001b[0m\u001b[0;34m.\u001b[0m\u001b[0mappend\u001b[0m\u001b[0;34m(\u001b[0m\u001b[0mniqe\u001b[0m\u001b[0;34m)\u001b[0m\u001b[0;34m\u001b[0m\u001b[0;34m\u001b[0m\u001b[0m\n\u001b[1;32m     16\u001b[0m \u001b[0;34m\u001b[0m\u001b[0m\n",
      "\u001b[0;32m~/opt/anaconda3/lib/python3.8/site-packages/skvideo/measure/niqe.py\u001b[0m in \u001b[0;36mniqe\u001b[0;34m(inputVideoData)\u001b[0m\n\u001b[1;32m    137\u001b[0m \u001b[0;34m\u001b[0m\u001b[0m\n\u001b[1;32m    138\u001b[0m     \u001b[0;32mfor\u001b[0m \u001b[0mt\u001b[0m \u001b[0;32min\u001b[0m \u001b[0mrange\u001b[0m\u001b[0;34m(\u001b[0m\u001b[0mT\u001b[0m\u001b[0;34m)\u001b[0m\u001b[0;34m:\u001b[0m\u001b[0;34m\u001b[0m\u001b[0;34m\u001b[0m\u001b[0m\n\u001b[0;32m--> 139\u001b[0;31m       \u001b[0mfeats\u001b[0m \u001b[0;34m=\u001b[0m \u001b[0mget_patches_test_features\u001b[0m\u001b[0;34m(\u001b[0m\u001b[0minputVideoData\u001b[0m\u001b[0;34m[\u001b[0m\u001b[0mt\u001b[0m\u001b[0;34m,\u001b[0m \u001b[0;34m:\u001b[0m\u001b[0;34m,\u001b[0m \u001b[0;34m:\u001b[0m\u001b[0;34m,\u001b[0m \u001b[0;36m0\u001b[0m\u001b[0;34m]\u001b[0m\u001b[0;34m,\u001b[0m \u001b[0mpatch_size\u001b[0m\u001b[0;34m)\u001b[0m\u001b[0;34m\u001b[0m\u001b[0;34m\u001b[0m\u001b[0m\n\u001b[0m\u001b[1;32m    140\u001b[0m       \u001b[0msample_mu\u001b[0m \u001b[0;34m=\u001b[0m \u001b[0mnp\u001b[0m\u001b[0;34m.\u001b[0m\u001b[0mmean\u001b[0m\u001b[0;34m(\u001b[0m\u001b[0mfeats\u001b[0m\u001b[0;34m,\u001b[0m \u001b[0maxis\u001b[0m\u001b[0;34m=\u001b[0m\u001b[0;36m0\u001b[0m\u001b[0;34m)\u001b[0m\u001b[0;34m\u001b[0m\u001b[0;34m\u001b[0m\u001b[0m\n\u001b[1;32m    141\u001b[0m       \u001b[0msample_cov\u001b[0m \u001b[0;34m=\u001b[0m \u001b[0mnp\u001b[0m\u001b[0;34m.\u001b[0m\u001b[0mcov\u001b[0m\u001b[0;34m(\u001b[0m\u001b[0mfeats\u001b[0m\u001b[0;34m.\u001b[0m\u001b[0mT\u001b[0m\u001b[0;34m)\u001b[0m\u001b[0;34m\u001b[0m\u001b[0;34m\u001b[0m\u001b[0m\n",
      "\u001b[0;32m~/opt/anaconda3/lib/python3.8/site-packages/skvideo/measure/niqe.py\u001b[0m in \u001b[0;36mget_patches_test_features\u001b[0;34m(img, patch_size, stride)\u001b[0m\n\u001b[1;32m     30\u001b[0m \u001b[0;34m\u001b[0m\u001b[0m\n\u001b[1;32m     31\u001b[0m \u001b[0;32mdef\u001b[0m \u001b[0mget_patches_test_features\u001b[0m\u001b[0;34m(\u001b[0m\u001b[0mimg\u001b[0m\u001b[0;34m,\u001b[0m \u001b[0mpatch_size\u001b[0m\u001b[0;34m,\u001b[0m \u001b[0mstride\u001b[0m\u001b[0;34m=\u001b[0m\u001b[0;36m8\u001b[0m\u001b[0;34m)\u001b[0m\u001b[0;34m:\u001b[0m\u001b[0;34m\u001b[0m\u001b[0;34m\u001b[0m\u001b[0m\n\u001b[0;32m---> 32\u001b[0;31m     \u001b[0;32mreturn\u001b[0m \u001b[0m_get_patches_generic\u001b[0m\u001b[0;34m(\u001b[0m\u001b[0mimg\u001b[0m\u001b[0;34m,\u001b[0m \u001b[0mpatch_size\u001b[0m\u001b[0;34m,\u001b[0m \u001b[0;36m0\u001b[0m\u001b[0;34m,\u001b[0m \u001b[0mstride\u001b[0m\u001b[0;34m)\u001b[0m\u001b[0;34m\u001b[0m\u001b[0;34m\u001b[0m\u001b[0m\n\u001b[0m\u001b[1;32m     33\u001b[0m \u001b[0;34m\u001b[0m\u001b[0m\n\u001b[1;32m     34\u001b[0m \u001b[0;32mdef\u001b[0m \u001b[0mextract_on_patches\u001b[0m\u001b[0;34m(\u001b[0m\u001b[0mimg\u001b[0m\u001b[0;34m,\u001b[0m \u001b[0mpatch_size\u001b[0m\u001b[0;34m)\u001b[0m\u001b[0;34m:\u001b[0m\u001b[0;34m\u001b[0m\u001b[0;34m\u001b[0m\u001b[0m\n",
      "\u001b[0;32m~/opt/anaconda3/lib/python3.8/site-packages/skvideo/measure/niqe.py\u001b[0m in \u001b[0;36m_get_patches_generic\u001b[0;34m(img, patch_size, is_train, stride)\u001b[0m\n\u001b[1;32m     67\u001b[0m \u001b[0;34m\u001b[0m\u001b[0m\n\u001b[1;32m     68\u001b[0m     \u001b[0mimg\u001b[0m \u001b[0;34m=\u001b[0m \u001b[0mimg\u001b[0m\u001b[0;34m.\u001b[0m\u001b[0mastype\u001b[0m\u001b[0;34m(\u001b[0m\u001b[0mnp\u001b[0m\u001b[0;34m.\u001b[0m\u001b[0mfloat32\u001b[0m\u001b[0;34m)\u001b[0m\u001b[0;34m\u001b[0m\u001b[0;34m\u001b[0m\u001b[0m\n\u001b[0;32m---> 69\u001b[0;31m     \u001b[0mimg2\u001b[0m \u001b[0;34m=\u001b[0m \u001b[0mscipy\u001b[0m\u001b[0;34m.\u001b[0m\u001b[0mmisc\u001b[0m\u001b[0;34m.\u001b[0m\u001b[0mimresize\u001b[0m\u001b[0;34m(\u001b[0m\u001b[0mimg\u001b[0m\u001b[0;34m,\u001b[0m \u001b[0;36m0.5\u001b[0m\u001b[0;34m,\u001b[0m \u001b[0minterp\u001b[0m\u001b[0;34m=\u001b[0m\u001b[0;34m'bicubic'\u001b[0m\u001b[0;34m,\u001b[0m \u001b[0mmode\u001b[0m\u001b[0;34m=\u001b[0m\u001b[0;34m'F'\u001b[0m\u001b[0;34m)\u001b[0m\u001b[0;34m\u001b[0m\u001b[0;34m\u001b[0m\u001b[0m\n\u001b[0m\u001b[1;32m     70\u001b[0m \u001b[0;34m\u001b[0m\u001b[0m\n\u001b[1;32m     71\u001b[0m     \u001b[0mmscn1\u001b[0m\u001b[0;34m,\u001b[0m \u001b[0mvar\u001b[0m\u001b[0;34m,\u001b[0m \u001b[0mmu\u001b[0m \u001b[0;34m=\u001b[0m \u001b[0mcompute_image_mscn_transform\u001b[0m\u001b[0;34m(\u001b[0m\u001b[0mimg\u001b[0m\u001b[0;34m)\u001b[0m\u001b[0;34m\u001b[0m\u001b[0;34m\u001b[0m\u001b[0m\n",
      "\u001b[0;31mAttributeError\u001b[0m: module 'scipy.misc' has no attribute 'imresize'"
     ]
    }
   ],
   "source": [
    "# CycleGAN\n",
    "computeNIQE(\"CycleGAN\", CYCLEGAN_DEBLOCKED_PATH)\n",
    "\n",
    "# U-GAT-IT TODO\n",
    "computeNIQE(\"U-GAT-IT\", UGATIT_DEBLOCKED_PATH)"
   ]
  },
  {
   "cell_type": "markdown",
   "metadata": {},
   "source": [
    "# FID and KID"
   ]
  },
  {
   "cell_type": "code",
   "execution_count": null,
   "metadata": {},
   "outputs": [],
   "source": [
    "\"\"\"Implementation of FID and KID with a slightly modified version of \n",
    "https://github.com/abdulfatir/gan-metrics-pytorch\"\"\"\n",
    "\n",
    "# KID\n",
    "!python gan-metrics-pytorch/kid_score.py --true VANGOGH_ORIGINAL --fake CYCLEGAN_VANGOGH\n",
    "#!python gan-metrics-pytorch/kid_score.py --true VANGOGH_ORIGINAL --fake UGATIT_VANGOGH"
   ]
  }
 ],
 "metadata": {
  "colab": {
   "collapsed_sections": [],
   "name": "NIQE et PSNR only.ipynb",
   "provenance": []
  },
  "kernelspec": {
   "display_name": "Python 3",
   "language": "python",
   "name": "python3"
  },
  "language_info": {
   "codemirror_mode": {
    "name": "ipython",
    "version": 3
   },
   "file_extension": ".py",
   "mimetype": "text/x-python",
   "name": "python",
   "nbconvert_exporter": "python",
   "pygments_lexer": "ipython3",
   "version": "3.8.5"
  }
 },
 "nbformat": 4,
 "nbformat_minor": 1
}
