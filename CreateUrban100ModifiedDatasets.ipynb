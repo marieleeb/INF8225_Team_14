{
  "nbformat": 4,
  "nbformat_minor": 0,
  "metadata": {
    "colab": {
      "name": "CreateUrban100ModifiedDatasets.ipynb",
      "provenance": [],
      "collapsed_sections": []
    },
    "kernelspec": {
      "name": "python3",
      "display_name": "Python 3"
    },
    "language_info": {
      "name": "python"
    }
  },
  "cells": [
    {
      "cell_type": "markdown",
      "metadata": {
        "id": "xFRcEJHXvwvZ"
      },
      "source": [
        "<a href=\"https://colab.research.google.com/drive/1U4BCyWmhwAOXx_CZR2T0QQqdXfBacxWG#scrollTo=Bwgl3O-pvpLD\" target=\"_parent\"><img src=\"https://colab.research.google.com/assets/colab-badge.svg\" alt=\"Open In Colab\"/></a>\n",
        "\n",
        "Pour rouler."
      ]
    },
    {
      "cell_type": "code",
      "metadata": {
        "id": "Ec-9FWyK7vCq"
      },
      "source": [
        "from PIL import Image\n",
        "import os, sys\n",
        "import cv2\n",
        "import numpy as np\n",
        "import matplotlib.pyplot as plt\n",
        "import matplotlib"
      ],
      "execution_count": null,
      "outputs": []
    },
    {
      "cell_type": "code",
      "metadata": {
        "colab": {
          "base_uri": "https://localhost:8080/"
        },
        "id": "daFfaLRtUezY",
        "outputId": "97617277-9db7-462f-d73d-45183346007d"
      },
      "source": [
        "#download urban100 images as npy format\n",
        "!gdown --id 15kz5jD_VJfSmJwT6fYFpTi_BI5ZCqQ3U\n",
        "!unzip -q Urban100.zip -d Urban100"
      ],
      "execution_count": null,
      "outputs": [
        {
          "output_type": "stream",
          "text": [
            "Downloading...\n",
            "From: https://drive.google.com/uc?id=15kz5jD_VJfSmJwT6fYFpTi_BI5ZCqQ3U\n",
            "To: /content/Urban100.zip\n",
            "136MB [00:00, 140MB/s]\n"
          ],
          "name": "stdout"
        }
      ]
    },
    {
      "cell_type": "code",
      "metadata": {
        "id": "gxBNdzUYBWIA"
      },
      "source": [
        "#image modification functions\n",
        "def images_to_np():\n",
        "  \"\"\"Function to convert all images from folder to .npy format\"\"\"\n",
        "\n",
        "  # Path to image directory\n",
        "  path = \"/content/Urban100/Urban100/\"\n",
        "  items = os.listdir(path)\n",
        "  items.sort()\n",
        "  original_imgs = []\n",
        "\n",
        "  # Append images to original images list\n",
        "  for item in items:\n",
        "    if os.path.isfile(path+item):\n",
        "      img = Image.open(path+item).convert(\"RGB\")\n",
        "      img = np.array(img)\n",
        "      #print(img.shape)\n",
        "      original_imgs.append(img)\n",
        "    \n",
        "  # Convert and save the list of images in '.npy' format\n",
        "  originals_imgs_set = np.array(original_imgs)\n",
        "  return originals_imgs_set\n",
        "\n",
        "def add_gaussian_noise(images, mean=0, sd=1):\n",
        "  \"\"\"Function to add Gaussian noise to original images\"\"\"\n",
        "  \n",
        "  #noisy_imgs = []\n",
        "  count = 1\n",
        "  for img in images:\n",
        "\n",
        "    # Generate Gaussian noise\n",
        "    gaussian_noise = np.random.normal(mean,sd,img.size)\n",
        "    gaussian_noise = gaussian_noise.reshape(img.shape[0],img.shape[1],img.shape[2]).astype('uint8')\n",
        "    \n",
        "    # Add the Gaussian noise to the image\n",
        "    gaussian_img = cv2.add(img, gaussian_noise)\n",
        "    matplotlib.image.imsave(\"/content/Urban100/noisy/\"+str(count).zfill(4)+\".png\", gaussian_img)\n",
        "    #noisy_imgs.append(gaussian_img)\n",
        "    count+=1\n",
        "  return #noisy_imgs\n",
        "\n",
        "def add_gaussian_blur(images, kernel_size=(3,3), sd = 1):\n",
        "  \n",
        "  #blurred_imgs = []\n",
        "  count = 1\n",
        "  for img in images:\n",
        "\n",
        "    # Generate Gaussian noise\n",
        "    blurred_img = cv2.GaussianBlur(img, kernel_size, sd)\n",
        "    #blurred_imgs.append(blurred_img)\n",
        "    matplotlib.image.imsave(\"/content/Urban100/blurred/\"+str(count).zfill(4)+\".png\", blurred_img)\n",
        "    count+=1\n",
        "  return #blurred_imgs\n",
        "\n",
        "def compress(images, quality=50):\n",
        "\n",
        "  #compressed_imgs = []\n",
        "  encode_param = [int(cv2.IMWRITE_JPEG_QUALITY),quality]\n",
        "  count = 1\n",
        "  for img in images:\n",
        "\n",
        "    # Encode image in lower quality\n",
        "    _, encoded_compressed_img = cv2.imencode('.jpg',img, encode_param)\n",
        "\n",
        "    # Decode and add to list\n",
        "    decoded_compressed_img = cv2.imdecode(encoded_compressed_img, 1)\n",
        "    matplotlib.image.imsave(\"/content/Urban100/compressed/\"+str(count).zfill(4)+\".png\", decoded_compressed_img)\n",
        "    #compressed_imgs.append(decoded_compressed_img)\n",
        "    count+=1\n",
        "  return #compressed_imgs"
      ],
      "execution_count": null,
      "outputs": []
    },
    {
      "cell_type": "code",
      "metadata": {
        "colab": {
          "base_uri": "https://localhost:8080/"
        },
        "id": "BlpDmC9DZcpO",
        "outputId": "af0cddec-ef9f-4912-f538-d728e7bbb67e"
      },
      "source": [
        "#process Urban100 images to numpy array\n",
        "import os\n",
        "originals = images_to_np()\n",
        "print(originals.shape)"
      ],
      "execution_count": null,
      "outputs": [
        {
          "output_type": "stream",
          "text": [
            "(100,)\n"
          ],
          "name": "stdout"
        },
        {
          "output_type": "stream",
          "text": [
            "/usr/local/lib/python3.7/dist-packages/ipykernel_launcher.py:20: VisibleDeprecationWarning: Creating an ndarray from ragged nested sequences (which is a list-or-tuple of lists-or-tuples-or ndarrays with different lengths or shapes) is deprecated. If you meant to do this, you must specify 'dtype=object' when creating the ndarray\n"
          ],
          "name": "stderr"
        }
      ]
    },
    {
      "cell_type": "code",
      "metadata": {
        "id": "aE9M2GB88dET"
      },
      "source": [
        "# Create noisy dataset\n",
        "!mkdir Urban100/noisy\n",
        "add_gaussian_noise(originals)"
      ],
      "execution_count": null,
      "outputs": []
    },
    {
      "cell_type": "code",
      "metadata": {
        "colab": {
          "base_uri": "https://localhost:8080/"
        },
        "id": "YEI4cjEGrOUu",
        "outputId": "29058f00-760c-4bd4-d4d2-6073c152948f"
      },
      "source": [
        "print(len([name for name in os.listdir(\"/content/Urban100/noisy\")]))"
      ],
      "execution_count": null,
      "outputs": [
        {
          "output_type": "stream",
          "text": [
            "100\n"
          ],
          "name": "stdout"
        }
      ]
    },
    {
      "cell_type": "code",
      "metadata": {
        "colab": {
          "base_uri": "https://localhost:8080/"
        },
        "id": "yPN0ochLrTNw",
        "outputId": "98f52cea-eaea-43ab-80d6-d2242221a723"
      },
      "source": [
        "!zip -r /content/noisyResults.zip /content/Urban100/noisy"
      ],
      "execution_count": null,
      "outputs": [
        {
          "output_type": "stream",
          "text": [
            "  adding: content/Urban100/noisy/ (stored 0%)\n",
            "  adding: content/Urban100/noisy/0051.png (deflated 0%)\n",
            "  adding: content/Urban100/noisy/0077.png (deflated 0%)\n",
            "  adding: content/Urban100/noisy/0028.png (deflated 0%)\n",
            "  adding: content/Urban100/noisy/0033.png (deflated 0%)\n",
            "  adding: content/Urban100/noisy/0096.png (deflated 0%)\n",
            "  adding: content/Urban100/noisy/0056.png (deflated 0%)\n",
            "  adding: content/Urban100/noisy/0048.png (deflated 0%)\n",
            "  adding: content/Urban100/noisy/0017.png (deflated 0%)\n",
            "  adding: content/Urban100/noisy/0032.png (deflated 0%)\n",
            "  adding: content/Urban100/noisy/0011.png (deflated 0%)\n",
            "  adding: content/Urban100/noisy/0071.png (deflated 0%)\n",
            "  adding: content/Urban100/noisy/0005.png (deflated 0%)\n",
            "  adding: content/Urban100/noisy/0042.png (deflated 0%)\n",
            "  adding: content/Urban100/noisy/0039.png (deflated 0%)\n",
            "  adding: content/Urban100/noisy/0075.png (deflated 0%)\n",
            "  adding: content/Urban100/noisy/0023.png (deflated 0%)\n",
            "  adding: content/Urban100/noisy/0059.png (deflated 0%)\n",
            "  adding: content/Urban100/noisy/0078.png (deflated 0%)\n",
            "  adding: content/Urban100/noisy/0035.png (deflated 0%)\n",
            "  adding: content/Urban100/noisy/0083.png (deflated 0%)\n",
            "  adding: content/Urban100/noisy/0090.png (deflated 0%)\n",
            "  adding: content/Urban100/noisy/0046.png (deflated 0%)\n",
            "  adding: content/Urban100/noisy/0088.png (deflated 0%)\n",
            "  adding: content/Urban100/noisy/0079.png (deflated 0%)\n",
            "  adding: content/Urban100/noisy/0091.png (deflated 0%)\n",
            "  adding: content/Urban100/noisy/0047.png (deflated 0%)\n",
            "  adding: content/Urban100/noisy/0041.png (deflated 0%)\n",
            "  adding: content/Urban100/noisy/0025.png (deflated 0%)\n",
            "  adding: content/Urban100/noisy/0020.png (deflated 0%)\n",
            "  adding: content/Urban100/noisy/0040.png (deflated 0%)\n",
            "  adding: content/Urban100/noisy/0045.png (deflated 0%)\n",
            "  adding: content/Urban100/noisy/0086.png (deflated 0%)\n",
            "  adding: content/Urban100/noisy/0074.png (deflated 0%)\n",
            "  adding: content/Urban100/noisy/0062.png (deflated 0%)\n",
            "  adding: content/Urban100/noisy/0064.png (deflated 0%)\n",
            "  adding: content/Urban100/noisy/0094.png (deflated 0%)\n",
            "  adding: content/Urban100/noisy/0068.png (deflated 0%)\n",
            "  adding: content/Urban100/noisy/0010.png (deflated 0%)\n",
            "  adding: content/Urban100/noisy/0070.png (deflated 0%)\n",
            "  adding: content/Urban100/noisy/0053.png (deflated 0%)\n",
            "  adding: content/Urban100/noisy/0008.png (deflated 0%)\n",
            "  adding: content/Urban100/noisy/0009.png (deflated 0%)\n",
            "  adding: content/Urban100/noisy/0098.png (deflated 0%)\n",
            "  adding: content/Urban100/noisy/0014.png (deflated 0%)\n",
            "  adding: content/Urban100/noisy/0027.png (deflated 0%)\n",
            "  adding: content/Urban100/noisy/0007.png (deflated 0%)\n",
            "  adding: content/Urban100/noisy/0049.png (deflated 0%)\n",
            "  adding: content/Urban100/noisy/0026.png (deflated 0%)\n",
            "  adding: content/Urban100/noisy/0085.png (deflated 0%)\n",
            "  adding: content/Urban100/noisy/0066.png (deflated 0%)\n",
            "  adding: content/Urban100/noisy/0019.png (deflated 0%)\n",
            "  adding: content/Urban100/noisy/0100.png (deflated 0%)\n",
            "  adding: content/Urban100/noisy/0055.png (deflated 0%)\n",
            "  adding: content/Urban100/noisy/0084.png (deflated 0%)\n",
            "  adding: content/Urban100/noisy/0022.png (deflated 0%)\n",
            "  adding: content/Urban100/noisy/0089.png (deflated 0%)\n",
            "  adding: content/Urban100/noisy/0061.png (deflated 0%)\n",
            "  adding: content/Urban100/noisy/0001.png (deflated 0%)\n",
            "  adding: content/Urban100/noisy/0058.png (deflated 0%)\n",
            "  adding: content/Urban100/noisy/0037.png (deflated 0%)\n",
            "  adding: content/Urban100/noisy/0006.png (deflated 0%)\n",
            "  adding: content/Urban100/noisy/0003.png (deflated 0%)\n",
            "  adding: content/Urban100/noisy/0081.png (deflated 0%)\n",
            "  adding: content/Urban100/noisy/0024.png (deflated 0%)\n",
            "  adding: content/Urban100/noisy/0052.png (deflated 0%)\n",
            "  adding: content/Urban100/noisy/0067.png (deflated 0%)\n",
            "  adding: content/Urban100/noisy/0016.png (deflated 0%)\n",
            "  adding: content/Urban100/noisy/0097.png (deflated 0%)\n",
            "  adding: content/Urban100/noisy/0093.png (deflated 0%)\n",
            "  adding: content/Urban100/noisy/0012.png (deflated 0%)\n",
            "  adding: content/Urban100/noisy/0004.png (deflated 0%)\n",
            "  adding: content/Urban100/noisy/0080.png (deflated 0%)\n",
            "  adding: content/Urban100/noisy/0057.png (deflated 0%)\n",
            "  adding: content/Urban100/noisy/0018.png (deflated 0%)\n",
            "  adding: content/Urban100/noisy/0044.png (deflated 0%)\n",
            "  adding: content/Urban100/noisy/0063.png (deflated 0%)\n",
            "  adding: content/Urban100/noisy/0060.png (deflated 0%)\n",
            "  adding: content/Urban100/noisy/0073.png (deflated 0%)\n",
            "  adding: content/Urban100/noisy/0029.png (deflated 0%)\n",
            "  adding: content/Urban100/noisy/0050.png (deflated 0%)\n",
            "  adding: content/Urban100/noisy/0072.png (deflated 0%)\n",
            "  adding: content/Urban100/noisy/0030.png (deflated 0%)\n",
            "  adding: content/Urban100/noisy/0021.png (deflated 0%)\n",
            "  adding: content/Urban100/noisy/0054.png (deflated 0%)\n",
            "  adding: content/Urban100/noisy/0099.png (deflated 0%)\n",
            "  adding: content/Urban100/noisy/0076.png (deflated 0%)\n",
            "  adding: content/Urban100/noisy/0087.png (deflated 0%)\n",
            "  adding: content/Urban100/noisy/0069.png (deflated 0%)\n",
            "  adding: content/Urban100/noisy/0038.png (deflated 0%)\n",
            "  adding: content/Urban100/noisy/0015.png (deflated 0%)\n",
            "  adding: content/Urban100/noisy/0092.png (deflated 0%)\n",
            "  adding: content/Urban100/noisy/0031.png (deflated 0%)\n",
            "  adding: content/Urban100/noisy/0034.png (deflated 0%)\n",
            "  adding: content/Urban100/noisy/0082.png (deflated 0%)\n",
            "  adding: content/Urban100/noisy/0043.png (deflated 0%)\n",
            "  adding: content/Urban100/noisy/0013.png (deflated 0%)\n",
            "  adding: content/Urban100/noisy/0065.png (deflated 0%)\n",
            "  adding: content/Urban100/noisy/0002.png (deflated 0%)\n",
            "  adding: content/Urban100/noisy/0095.png (deflated 0%)\n",
            "  adding: content/Urban100/noisy/0036.png (deflated 0%)\n"
          ],
          "name": "stdout"
        }
      ]
    },
    {
      "cell_type": "code",
      "metadata": {
        "id": "yCj7wU_Vgrgy"
      },
      "source": [
        "# Create blurred dataset\n",
        "!mkdir Urban100/blurred\n",
        "add_gaussian_blur(originals, (9,9), 3)"
      ],
      "execution_count": null,
      "outputs": []
    },
    {
      "cell_type": "code",
      "metadata": {
        "colab": {
          "base_uri": "https://localhost:8080/"
        },
        "id": "rH5OUuqzqOew",
        "outputId": "ada03f2f-6a4d-4287-b193-e922635293a0"
      },
      "source": [
        "print(len([name for name in os.listdir(\"/content/Urban100/blurred\")]))"
      ],
      "execution_count": null,
      "outputs": [
        {
          "output_type": "stream",
          "text": [
            "100\n"
          ],
          "name": "stdout"
        }
      ]
    },
    {
      "cell_type": "code",
      "metadata": {
        "colab": {
          "base_uri": "https://localhost:8080/"
        },
        "id": "iAcWWctGqU9Z",
        "outputId": "e98c0ee4-9a1e-482e-bc17-78e2fed4b82f"
      },
      "source": [
        "!zip -r /content/blurredResults.zip /content/Urban100/blurred"
      ],
      "execution_count": null,
      "outputs": [
        {
          "output_type": "stream",
          "text": [
            "  adding: content/Urban100/blurred/ (stored 0%)\n",
            "  adding: content/Urban100/blurred/0051.png (deflated 0%)\n",
            "  adding: content/Urban100/blurred/0077.png (deflated 0%)\n",
            "  adding: content/Urban100/blurred/0028.png (deflated 0%)\n",
            "  adding: content/Urban100/blurred/0033.png (deflated 0%)\n",
            "  adding: content/Urban100/blurred/0096.png (deflated 0%)\n",
            "  adding: content/Urban100/blurred/0056.png (deflated 0%)\n",
            "  adding: content/Urban100/blurred/0048.png (deflated 0%)\n",
            "  adding: content/Urban100/blurred/0017.png (deflated 0%)\n",
            "  adding: content/Urban100/blurred/0032.png (deflated 0%)\n",
            "  adding: content/Urban100/blurred/0011.png (deflated 1%)\n",
            "  adding: content/Urban100/blurred/0071.png (deflated 0%)\n",
            "  adding: content/Urban100/blurred/0005.png (deflated 0%)\n",
            "  adding: content/Urban100/blurred/0042.png (deflated 1%)\n",
            "  adding: content/Urban100/blurred/0039.png (deflated 0%)\n",
            "  adding: content/Urban100/blurred/0075.png (deflated 0%)\n",
            "  adding: content/Urban100/blurred/0023.png (deflated 1%)\n",
            "  adding: content/Urban100/blurred/0059.png (deflated 0%)\n",
            "  adding: content/Urban100/blurred/0078.png (deflated 0%)\n",
            "  adding: content/Urban100/blurred/0035.png (deflated 0%)\n",
            "  adding: content/Urban100/blurred/0083.png (deflated 0%)\n",
            "  adding: content/Urban100/blurred/0090.png (deflated 0%)\n",
            "  adding: content/Urban100/blurred/0046.png (deflated 0%)\n",
            "  adding: content/Urban100/blurred/0088.png (deflated 0%)\n",
            "  adding: content/Urban100/blurred/0079.png (deflated 0%)\n",
            "  adding: content/Urban100/blurred/0091.png (deflated 0%)\n",
            "  adding: content/Urban100/blurred/0047.png (deflated 0%)\n",
            "  adding: content/Urban100/blurred/0041.png (deflated 0%)\n",
            "  adding: content/Urban100/blurred/0025.png (deflated 0%)\n",
            "  adding: content/Urban100/blurred/0020.png (deflated 0%)\n",
            "  adding: content/Urban100/blurred/0040.png (deflated 0%)\n",
            "  adding: content/Urban100/blurred/0045.png (deflated 1%)\n",
            "  adding: content/Urban100/blurred/0086.png (deflated 0%)\n",
            "  adding: content/Urban100/blurred/0074.png (deflated 0%)\n",
            "  adding: content/Urban100/blurred/0062.png (deflated 0%)\n",
            "  adding: content/Urban100/blurred/0064.png (deflated 0%)\n",
            "  adding: content/Urban100/blurred/0094.png (deflated 0%)\n",
            "  adding: content/Urban100/blurred/0068.png (deflated 0%)\n",
            "  adding: content/Urban100/blurred/0010.png (deflated 0%)\n",
            "  adding: content/Urban100/blurred/0070.png (deflated 0%)\n",
            "  adding: content/Urban100/blurred/0053.png (deflated 0%)\n",
            "  adding: content/Urban100/blurred/0008.png (deflated 0%)\n",
            "  adding: content/Urban100/blurred/0009.png (deflated 0%)\n",
            "  adding: content/Urban100/blurred/0098.png (deflated 0%)\n",
            "  adding: content/Urban100/blurred/0014.png (deflated 0%)\n",
            "  adding: content/Urban100/blurred/0027.png (deflated 0%)\n",
            "  adding: content/Urban100/blurred/0007.png (deflated 0%)\n",
            "  adding: content/Urban100/blurred/0049.png (deflated 0%)\n",
            "  adding: content/Urban100/blurred/0026.png (deflated 0%)\n",
            "  adding: content/Urban100/blurred/0085.png (deflated 0%)\n",
            "  adding: content/Urban100/blurred/0066.png (deflated 0%)\n",
            "  adding: content/Urban100/blurred/0019.png (deflated 0%)\n",
            "  adding: content/Urban100/blurred/0100.png (deflated 0%)\n",
            "  adding: content/Urban100/blurred/0055.png (deflated 0%)\n",
            "  adding: content/Urban100/blurred/0084.png (deflated 0%)\n",
            "  adding: content/Urban100/blurred/0022.png (deflated 0%)\n",
            "  adding: content/Urban100/blurred/0089.png (deflated 0%)\n",
            "  adding: content/Urban100/blurred/0061.png (deflated 0%)\n",
            "  adding: content/Urban100/blurred/0001.png (deflated 0%)\n",
            "  adding: content/Urban100/blurred/0058.png (deflated 0%)\n",
            "  adding: content/Urban100/blurred/0037.png (deflated 0%)\n",
            "  adding: content/Urban100/blurred/0006.png (deflated 0%)\n",
            "  adding: content/Urban100/blurred/0003.png (deflated 0%)\n",
            "  adding: content/Urban100/blurred/0081.png (deflated 0%)\n",
            "  adding: content/Urban100/blurred/0024.png (deflated 0%)\n",
            "  adding: content/Urban100/blurred/0052.png (deflated 0%)\n",
            "  adding: content/Urban100/blurred/0067.png (deflated 0%)\n",
            "  adding: content/Urban100/blurred/0016.png (deflated 1%)\n",
            "  adding: content/Urban100/blurred/0097.png (deflated 0%)\n",
            "  adding: content/Urban100/blurred/0093.png (deflated 0%)\n",
            "  adding: content/Urban100/blurred/0012.png (deflated 0%)\n",
            "  adding: content/Urban100/blurred/0004.png (deflated 0%)\n",
            "  adding: content/Urban100/blurred/0080.png (deflated 0%)\n",
            "  adding: content/Urban100/blurred/0057.png (deflated 0%)\n",
            "  adding: content/Urban100/blurred/0018.png (deflated 0%)\n",
            "  adding: content/Urban100/blurred/0044.png (deflated 0%)\n",
            "  adding: content/Urban100/blurred/0063.png (deflated 0%)\n",
            "  adding: content/Urban100/blurred/0060.png (deflated 0%)\n",
            "  adding: content/Urban100/blurred/0073.png (deflated 0%)\n",
            "  adding: content/Urban100/blurred/0029.png (deflated 0%)\n",
            "  adding: content/Urban100/blurred/0050.png (deflated 0%)\n",
            "  adding: content/Urban100/blurred/0072.png (deflated 1%)\n",
            "  adding: content/Urban100/blurred/0030.png (deflated 0%)\n",
            "  adding: content/Urban100/blurred/0021.png (deflated 0%)\n",
            "  adding: content/Urban100/blurred/0054.png (deflated 0%)\n",
            "  adding: content/Urban100/blurred/0099.png (deflated 0%)\n",
            "  adding: content/Urban100/blurred/0076.png (deflated 0%)\n",
            "  adding: content/Urban100/blurred/0087.png (deflated 0%)\n",
            "  adding: content/Urban100/blurred/0069.png (deflated 0%)\n",
            "  adding: content/Urban100/blurred/0038.png (deflated 0%)\n",
            "  adding: content/Urban100/blurred/0015.png (deflated 0%)\n",
            "  adding: content/Urban100/blurred/0092.png (deflated 0%)\n",
            "  adding: content/Urban100/blurred/0031.png (deflated 0%)\n",
            "  adding: content/Urban100/blurred/0034.png (deflated 0%)\n",
            "  adding: content/Urban100/blurred/0082.png (deflated 0%)\n",
            "  adding: content/Urban100/blurred/0043.png (deflated 0%)\n",
            "  adding: content/Urban100/blurred/0013.png (deflated 0%)\n",
            "  adding: content/Urban100/blurred/0065.png (deflated 0%)\n",
            "  adding: content/Urban100/blurred/0002.png (deflated 0%)\n",
            "  adding: content/Urban100/blurred/0095.png (deflated 1%)\n",
            "  adding: content/Urban100/blurred/0036.png (deflated 0%)\n"
          ],
          "name": "stdout"
        }
      ]
    },
    {
      "cell_type": "code",
      "metadata": {
        "id": "gCdNvUT-r022"
      },
      "source": [
        "# Create compressed dataset\n",
        "!mkdir Urban100/compressed\n",
        "compress(originals, 10)"
      ],
      "execution_count": null,
      "outputs": []
    },
    {
      "cell_type": "code",
      "metadata": {
        "colab": {
          "base_uri": "https://localhost:8080/"
        },
        "id": "hk7ed_f2rgMN",
        "outputId": "60ee53bd-5bad-4361-c42a-2bfcbdb159db"
      },
      "source": [
        "print(len([name for name in os.listdir(\"/content/Urban100/compressed\")]))"
      ],
      "execution_count": null,
      "outputs": [
        {
          "output_type": "stream",
          "text": [
            "100\n"
          ],
          "name": "stdout"
        }
      ]
    },
    {
      "cell_type": "code",
      "metadata": {
        "colab": {
          "base_uri": "https://localhost:8080/"
        },
        "id": "R8LzyRUvraAO",
        "outputId": "b474167b-b0ff-44c2-d43b-26b5ea2d2b37"
      },
      "source": [
        "!zip -r /content/compressedResults.zip /content/Urban100/compressed"
      ],
      "execution_count": null,
      "outputs": [
        {
          "output_type": "stream",
          "text": [
            "  adding: content/Urban100/compressed/ (stored 0%)\n",
            "  adding: content/Urban100/compressed/0051.png (deflated 2%)\n",
            "  adding: content/Urban100/compressed/0077.png (deflated 1%)\n",
            "  adding: content/Urban100/compressed/0028.png (deflated 3%)\n",
            "  adding: content/Urban100/compressed/0033.png (deflated 3%)\n",
            "  adding: content/Urban100/compressed/0096.png (deflated 4%)\n",
            "  adding: content/Urban100/compressed/0056.png (deflated 2%)\n",
            "  adding: content/Urban100/compressed/0048.png (deflated 4%)\n",
            "  adding: content/Urban100/compressed/0017.png (deflated 1%)\n",
            "  adding: content/Urban100/compressed/0032.png (deflated 2%)\n",
            "  adding: content/Urban100/compressed/0011.png (deflated 6%)\n",
            "  adding: content/Urban100/compressed/0071.png (deflated 2%)\n",
            "  adding: content/Urban100/compressed/0005.png (deflated 2%)\n",
            "  adding: content/Urban100/compressed/0042.png (deflated 3%)\n",
            "  adding: content/Urban100/compressed/0039.png (deflated 2%)\n",
            "  adding: content/Urban100/compressed/0075.png (deflated 0%)\n",
            "  adding: content/Urban100/compressed/0023.png (deflated 0%)\n",
            "  adding: content/Urban100/compressed/0059.png (deflated 6%)\n",
            "  adding: content/Urban100/compressed/0078.png (deflated 1%)\n",
            "  adding: content/Urban100/compressed/0035.png (deflated 1%)\n",
            "  adding: content/Urban100/compressed/0083.png (deflated 3%)\n",
            "  adding: content/Urban100/compressed/0090.png (deflated 1%)\n",
            "  adding: content/Urban100/compressed/0046.png (deflated 2%)\n",
            "  adding: content/Urban100/compressed/0088.png (deflated 2%)\n",
            "  adding: content/Urban100/compressed/0079.png (deflated 1%)\n",
            "  adding: content/Urban100/compressed/0091.png (deflated 1%)\n",
            "  adding: content/Urban100/compressed/0047.png (deflated 5%)\n",
            "  adding: content/Urban100/compressed/0041.png (deflated 2%)\n",
            "  adding: content/Urban100/compressed/0025.png (deflated 2%)\n",
            "  adding: content/Urban100/compressed/0020.png (deflated 2%)\n",
            "  adding: content/Urban100/compressed/0040.png (deflated 6%)\n",
            "  adding: content/Urban100/compressed/0045.png (deflated 4%)\n",
            "  adding: content/Urban100/compressed/0086.png (deflated 1%)\n",
            "  adding: content/Urban100/compressed/0074.png (deflated 2%)\n",
            "  adding: content/Urban100/compressed/0062.png (deflated 3%)\n",
            "  adding: content/Urban100/compressed/0064.png (deflated 2%)\n",
            "  adding: content/Urban100/compressed/0094.png (deflated 2%)\n",
            "  adding: content/Urban100/compressed/0068.png (deflated 2%)\n",
            "  adding: content/Urban100/compressed/0010.png (deflated 6%)\n",
            "  adding: content/Urban100/compressed/0070.png (deflated 2%)\n",
            "  adding: content/Urban100/compressed/0053.png (deflated 2%)\n",
            "  adding: content/Urban100/compressed/0008.png (deflated 3%)\n",
            "  adding: content/Urban100/compressed/0009.png (deflated 3%)\n",
            "  adding: content/Urban100/compressed/0098.png (deflated 2%)\n",
            "  adding: content/Urban100/compressed/0014.png (deflated 4%)\n",
            "  adding: content/Urban100/compressed/0027.png (deflated 2%)\n",
            "  adding: content/Urban100/compressed/0007.png (deflated 1%)\n",
            "  adding: content/Urban100/compressed/0049.png (deflated 1%)\n",
            "  adding: content/Urban100/compressed/0026.png (deflated 2%)\n",
            "  adding: content/Urban100/compressed/0085.png (deflated 1%)\n",
            "  adding: content/Urban100/compressed/0066.png (deflated 6%)\n",
            "  adding: content/Urban100/compressed/0019.png (deflated 3%)\n",
            "  adding: content/Urban100/compressed/0100.png (deflated 1%)\n",
            "  adding: content/Urban100/compressed/0055.png (deflated 1%)\n",
            "  adding: content/Urban100/compressed/0084.png (deflated 1%)\n",
            "  adding: content/Urban100/compressed/0022.png (deflated 1%)\n",
            "  adding: content/Urban100/compressed/0089.png (deflated 1%)\n",
            "  adding: content/Urban100/compressed/0061.png (deflated 1%)\n",
            "  adding: content/Urban100/compressed/0001.png (deflated 2%)\n",
            "  adding: content/Urban100/compressed/0058.png (deflated 1%)\n",
            "  adding: content/Urban100/compressed/0037.png (deflated 1%)\n",
            "  adding: content/Urban100/compressed/0006.png (deflated 3%)\n",
            "  adding: content/Urban100/compressed/0003.png (deflated 2%)\n",
            "  adding: content/Urban100/compressed/0081.png (deflated 0%)\n",
            "  adding: content/Urban100/compressed/0024.png (deflated 2%)\n",
            "  adding: content/Urban100/compressed/0052.png (deflated 3%)\n",
            "  adding: content/Urban100/compressed/0067.png (deflated 2%)\n",
            "  adding: content/Urban100/compressed/0016.png (deflated 4%)\n",
            "  adding: content/Urban100/compressed/0097.png (deflated 3%)\n",
            "  adding: content/Urban100/compressed/0093.png (deflated 2%)\n",
            "  adding: content/Urban100/compressed/0012.png (deflated 0%)\n",
            "  adding: content/Urban100/compressed/0004.png (deflated 2%)\n",
            "  adding: content/Urban100/compressed/0080.png (deflated 1%)\n",
            "  adding: content/Urban100/compressed/0057.png (deflated 1%)\n",
            "  adding: content/Urban100/compressed/0018.png (deflated 0%)\n",
            "  adding: content/Urban100/compressed/0044.png (deflated 1%)\n",
            "  adding: content/Urban100/compressed/0063.png (deflated 1%)\n",
            "  adding: content/Urban100/compressed/0060.png (deflated 1%)\n",
            "  adding: content/Urban100/compressed/0073.png (deflated 1%)\n",
            "  adding: content/Urban100/compressed/0029.png (deflated 2%)\n",
            "  adding: content/Urban100/compressed/0050.png (deflated 1%)\n",
            "  adding: content/Urban100/compressed/0072.png (deflated 8%)\n",
            "  adding: content/Urban100/compressed/0030.png (deflated 1%)\n",
            "  adding: content/Urban100/compressed/0021.png (deflated 1%)\n",
            "  adding: content/Urban100/compressed/0054.png (deflated 2%)\n",
            "  adding: content/Urban100/compressed/0099.png (deflated 2%)\n",
            "  adding: content/Urban100/compressed/0076.png (deflated 1%)\n",
            "  adding: content/Urban100/compressed/0087.png (deflated 1%)\n",
            "  adding: content/Urban100/compressed/0069.png (deflated 1%)\n",
            "  adding: content/Urban100/compressed/0038.png (deflated 1%)\n",
            "  adding: content/Urban100/compressed/0015.png (deflated 0%)\n",
            "  adding: content/Urban100/compressed/0092.png (deflated 10%)\n",
            "  adding: content/Urban100/compressed/0031.png (deflated 2%)\n",
            "  adding: content/Urban100/compressed/0034.png (deflated 0%)\n",
            "  adding: content/Urban100/compressed/0082.png (deflated 0%)\n",
            "  adding: content/Urban100/compressed/0043.png (deflated 2%)\n",
            "  adding: content/Urban100/compressed/0013.png (deflated 0%)\n",
            "  adding: content/Urban100/compressed/0065.png (deflated 1%)\n",
            "  adding: content/Urban100/compressed/0002.png (deflated 3%)\n",
            "  adding: content/Urban100/compressed/0095.png (deflated 4%)\n",
            "  adding: content/Urban100/compressed/0036.png (deflated 5%)\n"
          ],
          "name": "stdout"
        }
      ]
    }
  ]
}