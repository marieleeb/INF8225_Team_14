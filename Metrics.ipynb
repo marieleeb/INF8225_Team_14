{
  "nbformat": 4,
  "nbformat_minor": 0,
  "metadata": {
    "colab": {
      "name": "Metrics.ipynb",
      "provenance": [],
      "collapsed_sections": [],
      "toc_visible": true
    },
    "kernelspec": {
      "display_name": "Python 3",
      "language": "python",
      "name": "python3"
    },
    "language_info": {
      "codemirror_mode": {
        "name": "ipython",
        "version": 3
      },
      "file_extension": ".py",
      "mimetype": "text/x-python",
      "name": "python",
      "nbconvert_exporter": "python",
      "pygments_lexer": "ipython3",
      "version": "3.8.5"
    },
    "accelerator": "GPU"
  },
  "cells": [
    {
      "cell_type": "markdown",
      "metadata": {
        "id": "MhntZ9TDSf3g"
      },
      "source": [
        "<a href=\"https://colab.research.google.com/drive/1C9-NoEPQv3dQuby80LBC76JrEE97BRZ3#scrollTo=MhntZ9TDSf3g\" target=\"_parent\"><img src=\"https://colab.research.google.com/assets/colab-badge.svg\" alt=\"Open In Colab\"/></a>\n",
        "\n",
        "Pour rouler et voir les résultats."
      ]
    },
    {
      "cell_type": "markdown",
      "metadata": {
        "id": "vWp8XIuNpIV7"
      },
      "source": [
        "# Model Evaluation\n",
        "Notebook to test model performance given transformed dataset and results for the four tasks. Metrics used:\n",
        "- Fretchet Inception Distance (VanGogh)\n",
        "- Kernel Inception Distance (VanGogh)\n",
        "- Peak Signal Noise Ratio (deblurring and denoising)\n",
        "- NIQE (deblocking)"
      ]
    },
    {
      "cell_type": "code",
      "metadata": {
        "id": "rEJMdq5IZJuI",
        "colab": {
          "base_uri": "https://localhost:8080/"
        },
        "outputId": "fc99fe9c-b65a-4d0e-b85a-5cf5f6678c85"
      },
      "source": [
        "from google.colab import drive\n",
        "drive.mount('/content/drive', force_remount=True)"
      ],
      "execution_count": null,
      "outputs": [
        {
          "output_type": "stream",
          "text": [
            "Mounted at /content/drive\n"
          ],
          "name": "stdout"
        }
      ]
    },
    {
      "cell_type": "code",
      "metadata": {
        "id": "9DvS3t2xMkrq",
        "colab": {
          "base_uri": "https://localhost:8080/"
        },
        "outputId": "acc0da59-cbd6-413a-a139-998853e20b28"
      },
      "source": [
        "from skimage.metrics import peak_signal_noise_ratio\n",
        "from statistics import mean\n",
        "from PIL import Image\n",
        "import os, sys, shutil\n",
        "import numpy as np\n",
        "import skimage.transform as st\n",
        "from skimage.util import img_as_ubyte\n",
        "import math\n",
        "\n",
        "!pip install tabulate\n",
        "from tabulate import tabulate\n",
        "\n",
        "!pip install scikit-video\n",
        "from skvideo import measure\n",
        "\n",
        "\"Sci-kit video uses deprecated version of scipy\"\n",
        "!pip install scipy==1.2.3\n",
        "\n",
        "!pip install torch-fidelity"
      ],
      "execution_count": null,
      "outputs": [
        {
          "output_type": "stream",
          "text": [
            "Requirement already satisfied: tabulate in /usr/local/lib/python3.7/dist-packages (0.8.9)\n",
            "Requirement already satisfied: scikit-video in /usr/local/lib/python3.7/dist-packages (1.1.11)\n",
            "Requirement already satisfied: pillow in /usr/local/lib/python3.7/dist-packages (from scikit-video) (7.1.2)\n",
            "Requirement already satisfied: numpy in /usr/local/lib/python3.7/dist-packages (from scikit-video) (1.19.5)\n",
            "Requirement already satisfied: scipy in /usr/local/lib/python3.7/dist-packages (from scikit-video) (1.2.3)\n",
            "Requirement already satisfied: scipy==1.2.3 in /usr/local/lib/python3.7/dist-packages (1.2.3)\n",
            "Requirement already satisfied: numpy>=1.8.2 in /usr/local/lib/python3.7/dist-packages (from scipy==1.2.3) (1.19.5)\n",
            "Requirement already satisfied: torch-fidelity in /usr/local/lib/python3.7/dist-packages (0.2.0)\n",
            "Requirement already satisfied: scipy in /usr/local/lib/python3.7/dist-packages (from torch-fidelity) (1.2.3)\n",
            "Requirement already satisfied: Pillow in /usr/local/lib/python3.7/dist-packages (from torch-fidelity) (7.1.2)\n",
            "Requirement already satisfied: numpy in /usr/local/lib/python3.7/dist-packages (from torch-fidelity) (1.19.5)\n",
            "Requirement already satisfied: torchvision in /usr/local/lib/python3.7/dist-packages (from torch-fidelity) (0.9.1+cu101)\n",
            "Requirement already satisfied: torch in /usr/local/lib/python3.7/dist-packages (from torch-fidelity) (1.8.1+cu101)\n",
            "Requirement already satisfied: tqdm in /usr/local/lib/python3.7/dist-packages (from torch-fidelity) (4.41.1)\n",
            "Requirement already satisfied: typing-extensions in /usr/local/lib/python3.7/dist-packages (from torch->torch-fidelity) (3.7.4.3)\n"
          ],
          "name": "stdout"
        }
      ]
    },
    {
      "cell_type": "code",
      "metadata": {
        "id": "VDbW_sQRXyZZ"
      },
      "source": [
        "# Load files\n",
        "\n",
        "# Paths\n",
        "URBAN_ORIG_PATH = \"/content/drive/MyDrive/Image_to_Image_Project/data/originals/originals.npy\"\n",
        "VANGOGH_ORIG_PATH = \"/content/vangogh_originals\"\n",
        "\n",
        "CYCLEGAN_DEBLURRED_PATH = \"cyclegan_deblurred\"\n",
        "CYCLEGAN_DENOISED_PATH = \"cyclegan_denoised\"\n",
        "CYCLEGAN_DEBLOCKED_PATH = \"cyclegan_deblocked\"\n",
        "\n",
        "UGATIT_DEBLURRED_PATH = \"ugatit_deblurred\"\n",
        "UGATIT_DENOISED_PATH = \"ugatit_denoised\"\n",
        "UGATIT_DEBLOCKED_PATH = \"ugatit_deblocked\"\n",
        "\n",
        "# CycleGAN\n",
        "!unzip -uq /content/drive/MyDrive/Image_to_Image_Project/New_data/CycleGAN_results_blurred.zip -d cyclegan_deblurred\n",
        "!unzip -uq /content/drive/MyDrive/Image_to_Image_Project/New_data/CycleGAN_results_compressed.zip -d cyclegan_deblocked\n",
        "!unzip -uq /content/drive/MyDrive/Image_to_Image_Project/New_data/CycleGAN_results_noisy.zip -d cyclegan_denoised\n",
        "!unzip -uq /content/drive/MyDrive/Image_to_Image_Project/New_data/CycleGAN_results_vangogh.zip -d cyclegan_vangogh\n",
        "\n",
        "# U-GAT-IT\n",
        "!unzip -uq /content/drive/MyDrive/Image_to_Image_Project/New_data/UGATIT_results_blurred.zip -d ugatit_deblurred\n",
        "!unzip -uq /content/drive/MyDrive/Image_to_Image_Project/New_data/UGATIT_results_compressed.zip -d ugatit_deblocked\n",
        "!unzip -uq /content/drive/MyDrive/Image_to_Image_Project/New_data/UGATIT_results_noisy.zip -d ugatit_denoised\n",
        "!unzip -uq /content/drive/MyDrive/Image_to_Image_Project/New_data/UGATIT_results_vangogh.zip -d ugatit_vangogh\n",
        "\n",
        "# VanGogh original\n",
        "!unzip -uq /content/drive/MyDrive/Image_to_Image_Project/data/vangogh_results_originals.zip -d vangogh_originals"
      ],
      "execution_count": null,
      "outputs": []
    },
    {
      "cell_type": "code",
      "metadata": {
        "colab": {
          "base_uri": "https://localhost:8080/"
        },
        "id": "2NPHD5_jKl1t",
        "outputId": "01bad120-11f7-485d-97b8-e0026d6f8a53"
      },
      "source": [
        "#Load original Urban100 images and resize to 256x256\n",
        "\n",
        "size = 256\n",
        "urban100_originals = np.load(URBAN_ORIG_PATH, allow_pickle=True) \n",
        "urban100_resized = []\n",
        "\n",
        "for img in urban100_originals:\n",
        "  urban100_resized.append(st.resize(img, (size, size)))\n",
        "\n",
        "urban100_resized = np.array(urban100_resized)\n",
        "print(f\"Shape of resized originals: {urban100_resized.shape}\")"
      ],
      "execution_count": null,
      "outputs": [
        {
          "output_type": "stream",
          "text": [
            "Shape of resized originals: (100, 256, 256, 3)\n"
          ],
          "name": "stdout"
        }
      ]
    },
    {
      "cell_type": "markdown",
      "metadata": {
        "id": "cKB4lXgiqINd"
      },
      "source": [
        "# Peak Signal to Noise Ratio "
      ]
    },
    {
      "cell_type": "code",
      "metadata": {
        "id": "crjj7C9dvymJ"
      },
      "source": [
        "def computePSNR(DEBLURRED_PATH, DENOISED_PATH, task):\n",
        "    \"\"\"Compute PSNR for a specified task\n",
        "    \n",
        "    DEBLURRED_PATH: denoised path for the task\n",
        "    DENOISED_PATH: denoised path for the task\n",
        "    task (string): CycleGAN or U-GAT-IT\n",
        "    \"\"\"\n",
        "    deblurred_psnrs = []\n",
        "    denoised_psnrs = []\n",
        "\n",
        "    # Load genereated images\n",
        "    deblurred_imgs = os.listdir(DEBLURRED_PATH)\n",
        "    denoised_imgs = os.listdir(DENOISED_PATH)\n",
        "\n",
        "    # Sort images\n",
        "    deblurred_imgs.sort()\n",
        "    denoised_imgs.sort()\n",
        "\n",
        "    for i, img_real in enumerate(urban100_resized):\n",
        "      img_real = img_as_ubyte(img_real)\n",
        "\n",
        "      # Deblur task\n",
        "      path_fake = os.path.join(DEBLURRED_PATH, deblurred_imgs[i])\n",
        "      img_fake = np.array(Image.open(path_fake).convert(\"RGB\"))\n",
        "      deblurred_psnrs.append(10**(peak_signal_noise_ratio(img_real, img_fake)/10))\n",
        "\n",
        "      # Denoise task\n",
        "      path_fake = os.path.join(DENOISED_PATH, denoised_imgs[i])\n",
        "      img_fake = np.array(Image.open(path_fake).convert(\"RGB\"))\n",
        "      denoised_psnrs.append(10**(peak_signal_noise_ratio(img_real, img_fake)/10))\n",
        "\n",
        "    print(tabulate([['Deblur', 10*math.log(mean(deblurred_psnrs), 10)], \n",
        "                    ['Denoise', 10*math.log(mean(denoised_psnrs), 10)],], \n",
        "                   headers=[task, 'Mean PSNR (dB)'], tablefmt='orgtbl'))\n",
        "    print(\"\\n\")"
      ],
      "execution_count": null,
      "outputs": []
    },
    {
      "cell_type": "code",
      "metadata": {
        "colab": {
          "base_uri": "https://localhost:8080/"
        },
        "id": "MS0otEGLXyZb",
        "outputId": "6666e10d-b281-4170-9a8e-4a7dc1e0cc61"
      },
      "source": [
        "#CycleGAN\n",
        "computePSNR(CYCLEGAN_DEBLURRED_PATH, CYCLEGAN_DENOISED_PATH, \"CycleGAN\")\n",
        "\n",
        "#U-GAT-IT\n",
        "computePSNR(UGATIT_DEBLURRED_PATH, UGATIT_DENOISED_PATH, \"U-GAT-IT\")"
      ],
      "execution_count": null,
      "outputs": [
        {
          "output_type": "stream",
          "text": [
            "| CycleGAN   |   Mean PSNR (dB) |\n",
            "|------------+------------------|\n",
            "| Deblur     |          23.2795 |\n",
            "| Denoise    |          22.7758 |\n",
            "\n",
            "\n",
            "| U-GAT-IT   |   Mean PSNR (dB) |\n",
            "|------------+------------------|\n",
            "| Deblur     |          11.1826 |\n",
            "| Denoise    |          10.7183 |\n",
            "\n",
            "\n"
          ],
          "name": "stdout"
        }
      ]
    },
    {
      "cell_type": "markdown",
      "metadata": {
        "id": "UnC2VbG-qNr-"
      },
      "source": [
        "# NIQE "
      ]
    },
    {
      "cell_type": "code",
      "metadata": {
        "id": "vsoJMLnJtbYF"
      },
      "source": [
        "def computeNIQE(task, DEBLOCKED_PATH):\n",
        "    \"\"\" Compute NIQE for a specified task\n",
        "    \n",
        "    task : CycleGAN or U-GAT-IT\n",
        "    DEBLOCKED_PATH : deblocked path for the task\n",
        "    \"\"\"\n",
        "    deblocked_niqe = []\n",
        "    deblocked_imgs = os.listdir(DEBLOCKED_PATH)\n",
        "\n",
        "    for deblocked_img in deblocked_imgs:\n",
        "        path = os.path.join(DEBLOCKED_PATH, deblocked_img)\n",
        "        img = np.array(Image.open(path).convert(\"L\")) # Convert to greyscale\n",
        "        img = img[:,:,np.newaxis]\n",
        "        niqe = measure.niqe(img)\n",
        "        deblocked_niqe.append(niqe)\n",
        "\n",
        "    print(f\"{task} NIQE: \", np.mean(deblocked_niqe))"
      ],
      "execution_count": null,
      "outputs": []
    },
    {
      "cell_type": "code",
      "metadata": {
        "colab": {
          "base_uri": "https://localhost:8080/"
        },
        "id": "cTzl09qvCFkh",
        "outputId": "51c2ff7f-3a08-478a-d964-81a812905702"
      },
      "source": [
        "# CycleGAN\n",
        "computeNIQE(\"CycleGAN\", CYCLEGAN_DEBLOCKED_PATH)\n",
        "\n",
        "# U-GAT-IT TODO\n",
        "computeNIQE(\"U-GAT-IT\", UGATIT_DEBLOCKED_PATH)"
      ],
      "execution_count": null,
      "outputs": [
        {
          "output_type": "stream",
          "text": [
            "CycleGAN NIQE:  34.651234\n",
            "U-GAT-IT NIQE:  48.13686\n"
          ],
          "name": "stdout"
        }
      ]
    },
    {
      "cell_type": "markdown",
      "metadata": {
        "id": "Ues0zTGGXyZd"
      },
      "source": [
        "# FID"
      ]
    },
    {
      "cell_type": "code",
      "metadata": {
        "colab": {
          "base_uri": "https://localhost:8080/"
        },
        "id": "c-ogHuRprlIr",
        "outputId": "61957c08-a3dd-4ea5-8fbc-c40577090f03"
      },
      "source": [
        "\"\"\"Implementation of FID https://github.com/toshas/torch-fidelity\"\"\"\n",
        "\n",
        "!fidelity --silent --fid vangogh_originals cyclegan_vangogh\n",
        "print(\"\\n\")\n",
        "!fidelity --silent --fid vangogh_originals ugatit_vangogh"
      ],
      "execution_count": null,
      "outputs": [
        {
          "output_type": "stream",
          "text": [
            "/usr/local/lib/python3.7/dist-packages/torch/utils/data/dataloader.py:477: UserWarning: This DataLoader will create 4 worker processes in total. Our suggested max number of worker in current system is 2, which is smaller than what this DataLoader is going to create. Please be aware that excessive worker creation might get DataLoader running slow or even freeze, lower the worker number to avoid potential slowness/freeze if necessary.\n",
            "  cpuset_checked))\n",
            "frechet_inception_distance: 250.1941\n",
            "\n",
            "\n",
            "/usr/local/lib/python3.7/dist-packages/torch/utils/data/dataloader.py:477: UserWarning: This DataLoader will create 4 worker processes in total. Our suggested max number of worker in current system is 2, which is smaller than what this DataLoader is going to create. Please be aware that excessive worker creation might get DataLoader running slow or even freeze, lower the worker number to avoid potential slowness/freeze if necessary.\n",
            "  cpuset_checked))\n",
            "frechet_inception_distance: 305.9866\n"
          ],
          "name": "stdout"
        }
      ]
    },
    {
      "cell_type": "markdown",
      "metadata": {
        "id": "-ZKGlBJDs7y1"
      },
      "source": [
        "# KID"
      ]
    },
    {
      "cell_type": "code",
      "metadata": {
        "colab": {
          "base_uri": "https://localhost:8080/"
        },
        "id": "9e-mX8nFtC_d",
        "outputId": "d26f5237-2e1d-434a-a6f5-42274f21b201"
      },
      "source": [
        "#!git clone https://github.com/abdulfatir/gan-metrics-pytorch"
      ],
      "execution_count": null,
      "outputs": [
        {
          "output_type": "stream",
          "text": [
            "fatal: destination path 'gan-metrics-pytorch' already exists and is not an empty directory.\n"
          ],
          "name": "stdout"
        }
      ]
    },
    {
      "cell_type": "code",
      "metadata": {
        "id": "2fzsRt41XyZd",
        "colab": {
          "base_uri": "https://localhost:8080/"
        },
        "outputId": "8ff7e98d-ad22-4277-c1ef-f61a26088a93"
      },
      "source": [
        "\"\"\"Implementation of KID with a slightly modified version of https://github.com/abdulfatir/gan-metrics-pytorch\"\"\"\n",
        "\n",
        "!python gan-metrics-pytorch/kid_score.py --true vangogh_originals --fake cyclegan_vangogh\n",
        "print(\"\\n\")\n",
        "!python gan-metrics-pytorch/kid_score.py --true vangogh_originals --fake ugatit_vangogh"
      ],
      "execution_count": null,
      "outputs": [
        {
          "output_type": "stream",
          "text": [
            "Namespace(batch_size=50, dims=2048, fake=['cyclegan_vangogh'], gpu='', model='inception', true='vangogh_originals')\n",
            "100% 1/1 [00:12<00:00, 12.36s/it]\n",
            "cyclegan_vangogh\n",
            "100% 1/1 [00:12<00:00, 12.04s/it]\n",
            "MMD: 100% 100/100 [00:52<00:00,  1.92it/s, mean=0.0789]\n",
            "KID (cyclegan_vangogh): 0.079 (0.002)\n",
            "\n",
            "\n",
            "Namespace(batch_size=50, dims=2048, fake=['ugatit_vangogh'], gpu='', model='inception', true='vangogh_originals')\n",
            "100% 1/1 [00:12<00:00, 12.13s/it]\n",
            "ugatit_vangogh\n",
            "100% 1/1 [00:11<00:00, 11.98s/it]\n",
            "MMD: 100% 100/100 [00:51<00:00,  1.94it/s, mean=0.134]\n",
            "KID (ugatit_vangogh): 0.134 (0.003)\n"
          ],
          "name": "stdout"
        }
      ]
    }
  ]
}